{
 "cells": [
  {
   "cell_type": "code",
   "execution_count": 5,
   "id": "c93a12c4-d495-45c2-bacf-d3748f672aa9",
   "metadata": {},
   "outputs": [],
   "source": [
    "import sys\n",
    "sys.path.append(\"../torchlet\")"
   ]
  },
  {
   "cell_type": "code",
   "execution_count": 2,
   "id": "9be056f1-3f1e-4857-9dcc-d67793748bd0",
   "metadata": {},
   "outputs": [],
   "source": [
    "from abc import ABC, abstractmethod\n",
    "from torchlet.engine import Element\n",
    "\n",
    "class Optimizer(ABC):\n",
    "    def __init__(self, params):\n",
    "        self.params = params\n",
    "    \n",
    "    @abstractmethod\n",
    "    def step(self):\n",
    "        \"\"\"Perform a single optimization step.\"\"\"\n",
    "        pass\n",
    "\n",
    "    def zero_grad(self):\n",
    "        \"\"\"Zero out the gradients for all parameters.\"\"\"\n",
    "        for param in self.params:\n",
    "            param.grad = None"
   ]
  },
  {
   "cell_type": "code",
   "execution_count": 4,
   "id": "11287b8c-fc5a-408c-95b6-0dcdb6ffc5b9",
   "metadata": {},
   "outputs": [],
   "source": [
    "class SGD(Optimizer):\n",
    "    def __init__(self, params, lr=0.01):\n",
    "        super().__init__(params)\n",
    "        self.lr = lr\n",
    "\n",
    "    def step(self):\n",
    "        for param in self.params:\n",
    "            if param.grad is not None:\n",
    "                param.data -= self.lr * param.grad"
   ]
  },
  {
   "cell_type": "code",
   "execution_count": 5,
   "id": "e7c93923-4cb4-4e15-98ea-ea004da800bf",
   "metadata": {},
   "outputs": [],
   "source": [
    "class SGDMomentum(Optimizer):\n",
    "    def __init__(self, params, lr=0.01, momentum=0.9):\n",
    "        super().__init__(params)\n",
    "        self.lr = lr\n",
    "        self.momentum = momentum\n",
    "        self.velocity = {param: Element(0) for param in self.params}\n",
    "\n",
    "    def step(self):\n",
    "        for param in self.params:\n",
    "            if param.grad is not None:\n",
    "                self.velocity[param] = self.momentum * self.velocity[param] + self.lr * param.grad\n",
    "                param.data -= self.velocity[param]"
   ]
  },
  {
   "cell_type": "code",
   "execution_count": 6,
   "id": "73192ccc-f866-44d8-87a6-d235d72ca247",
   "metadata": {},
   "outputs": [],
   "source": [
    "class Nesterov(Optimizer):\n",
    "    def __init__(self, params, lr=0.01, momentum=0.9):\n",
    "        super().__init__(params)\n",
    "        self.lr = lr\n",
    "        self.momentum = momentum\n",
    "        self.velocity = {param: Element(0) for param in self.params}\n",
    "\n",
    "    def step(self):\n",
    "        for param in self.params:\n",
    "            if param.grad is not None:\n",
    "                prev_velocity = self.velocity[param]\n",
    "                self.velocity[param] = self.momentum * self.velocity[param] + self.lr * param.grad\n",
    "                param.data -= (self.momentum * prev_velocity + self.lr * param.grad)"
   ]
  },
  {
   "cell_type": "code",
   "execution_count": 7,
   "id": "23de5cae-69e3-41cd-88ba-cdbb90338abb",
   "metadata": {},
   "outputs": [],
   "source": [
    "class RMSprop(Optimizer):\n",
    "    def __init__(self, params, lr=0.01, beta=0.9, epsilon=1e-8):\n",
    "        super().__init__(params)\n",
    "        self.lr = lr\n",
    "        self.beta = beta\n",
    "        self.epsilon = epsilon\n",
    "        self.squared_grad = {param: Element(0) for param in self.params}\n",
    "\n",
    "    def step(self):\n",
    "        for param in self.params:\n",
    "            if param.grad is not None:\n",
    "                self.squared_grad[param] = self.beta * self.squared_grad[param] + (1 - self.beta) * param.grad ** 2\n",
    "                param.data -= self.lr * param.grad / (self.squared_grad[param].data ** 0.5 + self.epsilon)"
   ]
  },
  {
   "cell_type": "code",
   "execution_count": 8,
   "id": "6d4165c3-a5c5-4dcf-aa84-16e29747b2e2",
   "metadata": {},
   "outputs": [],
   "source": [
    "class AdaGrad(Optimizer):\n",
    "    def __init__(self, params, lr=0.01, epsilon=1e-8):\n",
    "        super().__init__(params)\n",
    "        self.lr = lr\n",
    "        self.epsilon = epsilon\n",
    "        self.sum_of_squares = {param: Element(0) for param in self.params}\n",
    "\n",
    "    def step(self):\n",
    "        for param in self.params:\n",
    "            if param.grad is not None:\n",
    "                self.sum_of_squares[param] += param.grad ** 2\n",
    "                param.data -= self.lr * param.grad / (self.sum_of_squares[param].data ** 0.5 + self.epsilon)"
   ]
  },
  {
   "cell_type": "code",
   "execution_count": 9,
   "id": "51f156b0-1912-46a4-863c-13dd616074e8",
   "metadata": {},
   "outputs": [],
   "source": [
    "class Adam(Optimizer):\n",
    "    def __init__(self, params, lr=0.001, beta1=0.9, beta2=0.999, epsilon=1e-8):\n",
    "        super().__init__(params)\n",
    "        self.lr = lr\n",
    "        self.beta1 = beta1\n",
    "        self.beta2 = beta2\n",
    "        self.epsilon = epsilon\n",
    "        self.m = {param: Element(0) for param in self.params}\n",
    "        self.v = {param: Element(0) for param in self.params}\n",
    "        self.t = 0\n",
    "\n",
    "    def step(self):\n",
    "        self.t += 1\n",
    "        for param in self.params:\n",
    "            if param.grad is not None:\n",
    "                self.m[param] = self.beta1 * self.m[param] + (1 - self.beta1) * param.grad\n",
    "                self.v[param] = self.beta2 * self.v[param] + (1 - self.beta2) * (param.grad ** 2)\n",
    "\n",
    "                m_hat = self.m[param] / (1 - self.beta1 ** self.t)\n",
    "                v_hat = self.v[param] / (1 - self.beta2 ** self.t)\n",
    "\n",
    "                param.data -= self.lr * m_hat / (v_hat.data ** 0.5 + self.epsilon)"
   ]
  },
  {
   "cell_type": "code",
   "execution_count": 10,
   "id": "20abe7a1-5bc4-4db4-8f4e-eba62e11e7d9",
   "metadata": {},
   "outputs": [],
   "source": [
    "class AdamW(Adam):\n",
    "    def __init__(self, params, lr=0.001, beta1=0.9, beta2=0.999, epsilon=1e-8, weight_decay=0.01):\n",
    "        super().__init__(params, lr, beta1, beta2, epsilon)\n",
    "        self.weight_decay = weight_decay\n",
    "\n",
    "    def step(self):\n",
    "        self.t += 1\n",
    "        for param in self.params:\n",
    "            if param.grad is not None:\n",
    "                self.m[param] = self.beta1 * self.m[param] + (1 - self.beta1) * param.grad\n",
    "                self.v[param] = self.beta2 * self.v[param] + (1 - self.beta2) * (param.grad ** 2)\n",
    "\n",
    "                m_hat = self.m[param] / (1 - self.beta1 ** self.t)\n",
    "                v_hat = self.v[param] / (1 - self.beta2 ** self.t)\n",
    "\n",
    "                param.data -= self.lr * m_hat / (v_hat.data ** 0.5 + self.epsilon) + self.weight_decay * param.data"
   ]
  },
  {
   "cell_type": "code",
   "execution_count": 13,
   "id": "22943ac6-cb1d-4b50-9d49-3c550361015a",
   "metadata": {},
   "outputs": [
    {
     "ename": "UFuncTypeError",
     "evalue": "Cannot cast ufunc 'subtract' output from dtype('O') to dtype('float64') with casting rule 'same_kind'",
     "output_type": "error",
     "traceback": [
      "\u001b[1;31m---------------------------------------------------------------------------\u001b[0m",
      "\u001b[1;31mUFuncTypeError\u001b[0m                            Traceback (most recent call last)",
      "Cell \u001b[1;32mIn[13], line 17\u001b[0m\n\u001b[0;32m     14\u001b[0m loss\u001b[38;5;241m.\u001b[39mbackward()\n\u001b[0;32m     16\u001b[0m \u001b[38;5;66;03m# Step the optimizer\u001b[39;00m\n\u001b[1;32m---> 17\u001b[0m optimizer\u001b[38;5;241m.\u001b[39mstep()\n\u001b[0;32m     19\u001b[0m \u001b[38;5;66;03m# Zero the gradients for the next iteration\u001b[39;00m\n\u001b[0;32m     20\u001b[0m optimizer\u001b[38;5;241m.\u001b[39mzero_grad()\n",
      "Cell \u001b[1;32mIn[9], line 22\u001b[0m, in \u001b[0;36mAdam.step\u001b[1;34m(self)\u001b[0m\n\u001b[0;32m     19\u001b[0m m_hat \u001b[38;5;241m=\u001b[39m \u001b[38;5;28mself\u001b[39m\u001b[38;5;241m.\u001b[39mm[param] \u001b[38;5;241m/\u001b[39m (\u001b[38;5;241m1\u001b[39m \u001b[38;5;241m-\u001b[39m \u001b[38;5;28mself\u001b[39m\u001b[38;5;241m.\u001b[39mbeta1 \u001b[38;5;241m*\u001b[39m\u001b[38;5;241m*\u001b[39m \u001b[38;5;28mself\u001b[39m\u001b[38;5;241m.\u001b[39mt)\n\u001b[0;32m     20\u001b[0m v_hat \u001b[38;5;241m=\u001b[39m \u001b[38;5;28mself\u001b[39m\u001b[38;5;241m.\u001b[39mv[param] \u001b[38;5;241m/\u001b[39m (\u001b[38;5;241m1\u001b[39m \u001b[38;5;241m-\u001b[39m \u001b[38;5;28mself\u001b[39m\u001b[38;5;241m.\u001b[39mbeta2 \u001b[38;5;241m*\u001b[39m\u001b[38;5;241m*\u001b[39m \u001b[38;5;28mself\u001b[39m\u001b[38;5;241m.\u001b[39mt)\n\u001b[1;32m---> 22\u001b[0m param\u001b[38;5;241m.\u001b[39mdata \u001b[38;5;241m-\u001b[39m\u001b[38;5;241m=\u001b[39m \u001b[38;5;28mself\u001b[39m\u001b[38;5;241m.\u001b[39mlr \u001b[38;5;241m*\u001b[39m m_hat \u001b[38;5;241m/\u001b[39m (v_hat\u001b[38;5;241m.\u001b[39mdata \u001b[38;5;241m*\u001b[39m\u001b[38;5;241m*\u001b[39m \u001b[38;5;241m0.5\u001b[39m \u001b[38;5;241m+\u001b[39m \u001b[38;5;28mself\u001b[39m\u001b[38;5;241m.\u001b[39mepsilon)\n",
      "\u001b[1;31mUFuncTypeError\u001b[0m: Cannot cast ufunc 'subtract' output from dtype('O') to dtype('float64') with casting rule 'same_kind'"
     ]
    }
   ],
   "source": [
    "from torchlet.engine import Element\n",
    "from torchlet.nn import MLP\n",
    "\n",
    "# Initialize model and optimizer\n",
    "model = MLP(3, [4, 4, 1])\n",
    "optimizer = Adam(model.parameters())\n",
    "\n",
    "# Forward pass\n",
    "x = [Element(1.0), Element(2.0), Element(3.0)]\n",
    "y = model(x)\n",
    "\n",
    "# Compute loss and backpropagate\n",
    "loss = y * Element(1.0)\n",
    "loss.backward()\n",
    "\n",
    "# Step the optimizer\n",
    "optimizer.step()\n",
    "\n",
    "# Zero the gradients for the next iteration\n",
    "optimizer.zero_grad()"
   ]
  }
 ],
 "metadata": {
  "kernelspec": {
   "display_name": "Python 3 (ipykernel)",
   "language": "python",
   "name": "python3"
  },
  "language_info": {
   "codemirror_mode": {
    "name": "ipython",
    "version": 3
   },
   "file_extension": ".py",
   "mimetype": "text/x-python",
   "name": "python",
   "nbconvert_exporter": "python",
   "pygments_lexer": "ipython3",
   "version": "3.11.5"
  }
 },
 "nbformat": 4,
 "nbformat_minor": 5
}
